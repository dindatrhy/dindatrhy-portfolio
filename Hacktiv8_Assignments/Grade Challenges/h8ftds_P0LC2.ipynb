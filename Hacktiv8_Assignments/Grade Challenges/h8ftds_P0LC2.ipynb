{
  "nbformat": 4,
  "nbformat_minor": 0,
  "metadata": {
    "colab": {
      "name": "h8ftds_P0LC2.ipynb",
      "provenance": [],
      "collapsed_sections": []
    },
    "kernelspec": {
      "name": "python3",
      "display_name": "Python 3"
    },
    "language_info": {
      "name": "python"
    }
  },
  "cells": [
    {
      "cell_type": "markdown",
      "metadata": {
        "id": "TfwHDYYDhmWX"
      },
      "source": [
        "# Introduction\n",
        "\n",
        "Halo, Saya Dinda Tirta Rahayu. Disini saya akan melakukan implementasi dari vektor, linear algebra dan calculus pada kasus live code."
      ]
    },
    {
      "cell_type": "markdown",
      "metadata": {
        "id": "iKSvqezXiFm4"
      },
      "source": [
        "## Importing all the libraries"
      ]
    },
    {
      "cell_type": "code",
      "metadata": {
        "id": "2P9wYiYgJdRu"
      },
      "source": [
        "import numpy as np\n",
        "import numpy.linalg as LA\n",
        "import pandas as pd\n",
        "from matplotlib import pyplot as plt\n",
        "%matplotlib inline"
      ],
      "execution_count": 1,
      "outputs": []
    },
    {
      "cell_type": "markdown",
      "metadata": {
        "id": "Xm8Xdau8hmG8"
      },
      "source": [
        "## Answer no.1"
      ]
    },
    {
      "cell_type": "code",
      "metadata": {
        "id": "_qvrHKFSLjgh"
      },
      "source": [
        "#create vector for kalimat_1 and kalimat_2\n",
        "kalimat_1 = np.array([2,0,1,1,0,2,1,1])\n",
        "kalimat_2 = np.array([2,1,1,0,1,1,1,1])"
      ],
      "execution_count": 3,
      "outputs": []
    },
    {
      "cell_type": "code",
      "metadata": {
        "colab": {
          "base_uri": "https://localhost:8080/"
        },
        "id": "Al69HcKDL_gv",
        "outputId": "4f2e2ffc-4e89-49ef-e1bc-044aeb771224"
      },
      "source": [
        "#how to find the radian and degrees to know how far the distance between kalimat_1 and kalimat_2\n",
        "def vector_angle(kalimat_1, kalimat_2):\n",
        "    cos_theta = kalimat_1.dot(kalimat_2) / LA.norm(kalimat_1) / LA.norm(kalimat_2)\n",
        "    return np.arccos(np.clip(cos_theta, -1, 1))\n",
        "\n",
        "theta = vector_angle(kalimat_1, kalimat_2)\n",
        "print(\"Angle =\", theta, \"radians\")\n",
        "print(\"      =\", theta * 180 / np.pi, \"degrees\")"
      ],
      "execution_count": 6,
      "outputs": [
        {
          "output_type": "stream",
          "name": "stdout",
          "text": [
            "Angle = 0.6066126115746933 radians\n",
            "      = 34.756342442638676 degrees\n"
          ]
        }
      ]
    },
    {
      "cell_type": "markdown",
      "metadata": {
        "id": "NpWAuSz0OGlU"
      },
      "source": [
        "Berdasarkan perhitungan Linear Algebra di atas menggunakan library numpy Linear Algebra, didapatkan bahwa **jarak kedekatan atau radius antara kalimat_1 dan kalimat_2 yaitu sebesar 0,6.** Suatu vektor yang dinyatakan similiar yaitu ketika memiliki radius 1, untuk kasus di atas didapatkan bahwa kalimat_1 dan kalimat_2 cukup similiar karena memiliki radius 0,6 sedangkan jika kita convert menjadi sudut yaitu sekitar 34,7 degrees.\n",
        "**Sehingga dapat disimpulkan NLP pada \n",
        "Kalimat 1: Julie loves me more than Linda loves me dan Kalimat 2: Jane likes me more than Julie loves me, memiliki konteks kalimat yang hampir serupa.**"
      ]
    },
    {
      "cell_type": "markdown",
      "metadata": {
        "id": "TVOQzeXePw8a"
      },
      "source": [
        "# Answer no.2"
      ]
    },
    {
      "cell_type": "markdown",
      "metadata": {
        "id": "IXFWnhm1jqeI"
      },
      "source": [
        "Calling the dataset of latitudes and longitudes"
      ]
    },
    {
      "cell_type": "code",
      "metadata": {
        "colab": {
          "base_uri": "https://localhost:8080/",
          "height": 423
        },
        "id": "naxTDBL1NaIP",
        "outputId": "9e22c47a-aab6-4532-9f14-e49e74e3f999"
      },
      "source": [
        "\n",
        "url = 'https://raw.githubusercontent.com/fahmimnalfrzki/Dataset/main/Swiss_boundaries.txt?token=AEZDEHXBTS7OMF32RTYPKZDA2FELA'\n",
        "data = pd.read_csv(url)\n",
        "data"
      ],
      "execution_count": 10,
      "outputs": [
        {
          "output_type": "execute_result",
          "data": {
            "text/html": [
              "<div>\n",
              "<style scoped>\n",
              "    .dataframe tbody tr th:only-of-type {\n",
              "        vertical-align: middle;\n",
              "    }\n",
              "\n",
              "    .dataframe tbody tr th {\n",
              "        vertical-align: top;\n",
              "    }\n",
              "\n",
              "    .dataframe thead th {\n",
              "        text-align: right;\n",
              "    }\n",
              "</style>\n",
              "<table border=\"1\" class=\"dataframe\">\n",
              "  <thead>\n",
              "    <tr style=\"text-align: right;\">\n",
              "      <th></th>\n",
              "      <th>longitude</th>\n",
              "      <th>latitude</th>\n",
              "    </tr>\n",
              "  </thead>\n",
              "  <tbody>\n",
              "    <tr>\n",
              "      <th>0</th>\n",
              "      <td>9.56672</td>\n",
              "      <td>47.54045</td>\n",
              "    </tr>\n",
              "    <tr>\n",
              "      <th>1</th>\n",
              "      <td>9.55980</td>\n",
              "      <td>47.50209</td>\n",
              "    </tr>\n",
              "    <tr>\n",
              "      <th>2</th>\n",
              "      <td>9.59660</td>\n",
              "      <td>47.46944</td>\n",
              "    </tr>\n",
              "    <tr>\n",
              "      <th>3</th>\n",
              "      <td>9.64965</td>\n",
              "      <td>47.45861</td>\n",
              "    </tr>\n",
              "    <tr>\n",
              "      <th>4</th>\n",
              "      <td>9.67035</td>\n",
              "      <td>47.39069</td>\n",
              "    </tr>\n",
              "    <tr>\n",
              "      <th>...</th>\n",
              "      <td>...</td>\n",
              "      <td>...</td>\n",
              "    </tr>\n",
              "    <tr>\n",
              "      <th>273</th>\n",
              "      <td>9.03333</td>\n",
              "      <td>47.68833</td>\n",
              "    </tr>\n",
              "    <tr>\n",
              "      <th>274</th>\n",
              "      <td>9.08264</td>\n",
              "      <td>47.68541</td>\n",
              "    </tr>\n",
              "    <tr>\n",
              "      <th>275</th>\n",
              "      <td>9.26110</td>\n",
              "      <td>47.66284</td>\n",
              "    </tr>\n",
              "    <tr>\n",
              "      <th>276</th>\n",
              "      <td>9.47832</td>\n",
              "      <td>47.57585</td>\n",
              "    </tr>\n",
              "    <tr>\n",
              "      <th>277</th>\n",
              "      <td>9.56672</td>\n",
              "      <td>47.54045</td>\n",
              "    </tr>\n",
              "  </tbody>\n",
              "</table>\n",
              "<p>278 rows × 2 columns</p>\n",
              "</div>"
            ],
            "text/plain": [
              "     longitude  latitude\n",
              "0      9.56672  47.54045\n",
              "1      9.55980  47.50209\n",
              "2      9.59660  47.46944\n",
              "3      9.64965  47.45861\n",
              "4      9.67035  47.39069\n",
              "..         ...       ...\n",
              "273    9.03333  47.68833\n",
              "274    9.08264  47.68541\n",
              "275    9.26110  47.66284\n",
              "276    9.47832  47.57585\n",
              "277    9.56672  47.54045\n",
              "\n",
              "[278 rows x 2 columns]"
            ]
          },
          "metadata": {},
          "execution_count": 10
        }
      ]
    },
    {
      "cell_type": "markdown",
      "metadata": {
        "id": "jyz_78Zhj0s9"
      },
      "source": [
        "finding the Northern dan Southern values"
      ]
    },
    {
      "cell_type": "code",
      "metadata": {
        "colab": {
          "base_uri": "https://localhost:8080/"
        },
        "id": "kU3Z3waIZZFF",
        "outputId": "9a271c9f-1b0d-4340-cdec-56259e5e4aac"
      },
      "source": [
        "\n",
        "nilai_med = data['latitude'].median()\n",
        "nilai_med"
      ],
      "execution_count": 41,
      "outputs": [
        {
          "output_type": "execute_result",
          "data": {
            "text/plain": [
              "46.61666000000005"
            ]
          },
          "metadata": {},
          "execution_count": 41
        }
      ]
    },
    {
      "cell_type": "markdown",
      "metadata": {
        "id": "ioOdFjssj4lN"
      },
      "source": [
        "berarti jika nilai latitude > 46.616 maka northern, sebaliknya shouthern"
      ]
    },
    {
      "cell_type": "code",
      "metadata": {
        "colab": {
          "base_uri": "https://localhost:8080/"
        },
        "id": "Q2c1LMJwW0Ex",
        "outputId": "e0e57875-7220-4009-fb9a-15deb6f9f4a5"
      },
      "source": [
        "#luas wilayah southern \n",
        "y = np.array(data['latitude'])\n",
        "x = np.array(data['longitude'])\n",
        "\n",
        "def integrate(x,y):\n",
        "  area = np.trapz(y=y<46.616, x=x)\n",
        "  return area\n",
        "print(integrate(x,y))"
      ],
      "execution_count": 62,
      "outputs": [
        {
          "output_type": "stream",
          "name": "stdout",
          "text": [
            "-2.078329999999994\n"
          ]
        }
      ]
    },
    {
      "cell_type": "markdown",
      "metadata": {
        "id": "5u4gHtNvj8Ct"
      },
      "source": [
        "Berdasarkan hasil diatas, dapat disimpulkan bahwa luas wilayah dari southern yaitu -2.078329999999994 satuan tersebut"
      ]
    },
    {
      "cell_type": "code",
      "metadata": {
        "colab": {
          "base_uri": "https://localhost:8080/"
        },
        "id": "-CGpTDEXdyvT",
        "outputId": "5ac4fbe3-4893-4d5e-9554-ea4a1d53d3d0"
      },
      "source": [
        "#luas wilayah northern \n",
        "y = np.array(data['latitude'])\n",
        "x = np.array(data['longitude'])\n",
        "\n",
        "def integrate(x,y):\n",
        "  area = np.trapz(y=y>46.616, x=x)\n",
        "  return area\n",
        "print(integrate(x,y))"
      ],
      "execution_count": 44,
      "outputs": [
        {
          "output_type": "stream",
          "name": "stdout",
          "text": [
            "2.1112850000000094\n"
          ]
        }
      ]
    },
    {
      "cell_type": "markdown",
      "metadata": {
        "id": "ZNTYjjYAkRII"
      },
      "source": [
        "Berdasarkan hasil diatas, dapat disimpulkan bahwa luas wilayah dari northern yaitu 2.1112850000000094 satuan tersebut"
      ]
    },
    {
      "cell_type": "code",
      "metadata": {
        "colab": {
          "base_uri": "https://localhost:8080/",
          "height": 497
        },
        "id": "ejwWi2-AaPH3",
        "outputId": "976b9178-40b1-4ea2-9287-fc5009e1a7a7"
      },
      "source": [
        "#luas northern\n",
        "\n",
        "# Set up the plot\n",
        "plt.xlabel('x')\n",
        "plt.ylabel('f(x)')\n",
        "plt.grid()\n",
        "\n",
        "# Plot x against f(x)\n",
        "plt.plot(x,y>46, color='purple')\n",
        "\n",
        "# show area for integral\n",
        "section = np.arange(-2.078329999999994, 2.1112850000000094, 1)\n",
        "plt.fill_between(section,f(section), color='orange')\n",
        "\n",
        "plt.show()"
      ],
      "execution_count": 67,
      "outputs": [
        {
          "output_type": "error",
          "ename": "NameError",
          "evalue": "ignored",
          "traceback": [
            "\u001b[0;31m---------------------------------------------------------------------------\u001b[0m",
            "\u001b[0;31mNameError\u001b[0m                                 Traceback (most recent call last)",
            "\u001b[0;32m<ipython-input-67-7abd4abcb546>\u001b[0m in \u001b[0;36m<module>\u001b[0;34m()\u001b[0m\n\u001b[1;32m     13\u001b[0m \u001b[0;31m# show area for integral\u001b[0m\u001b[0;34m\u001b[0m\u001b[0;34m\u001b[0m\u001b[0;34m\u001b[0m\u001b[0m\n\u001b[1;32m     14\u001b[0m \u001b[0msection\u001b[0m \u001b[0;34m=\u001b[0m \u001b[0mnp\u001b[0m\u001b[0;34m.\u001b[0m\u001b[0marange\u001b[0m\u001b[0;34m(\u001b[0m\u001b[0;34m-\u001b[0m\u001b[0;36m2.078329999999994\u001b[0m\u001b[0;34m,\u001b[0m \u001b[0;36m2.1112850000000094\u001b[0m\u001b[0;34m,\u001b[0m \u001b[0;36m1\u001b[0m\u001b[0;34m)\u001b[0m\u001b[0;34m\u001b[0m\u001b[0;34m\u001b[0m\u001b[0m\n\u001b[0;32m---> 15\u001b[0;31m \u001b[0mplt\u001b[0m\u001b[0;34m.\u001b[0m\u001b[0mfill_between\u001b[0m\u001b[0;34m(\u001b[0m\u001b[0msection\u001b[0m\u001b[0;34m,\u001b[0m\u001b[0mf\u001b[0m\u001b[0;34m(\u001b[0m\u001b[0msection\u001b[0m\u001b[0;34m)\u001b[0m\u001b[0;34m,\u001b[0m \u001b[0mcolor\u001b[0m\u001b[0;34m=\u001b[0m\u001b[0;34m'orange'\u001b[0m\u001b[0;34m)\u001b[0m\u001b[0;34m\u001b[0m\u001b[0;34m\u001b[0m\u001b[0m\n\u001b[0m\u001b[1;32m     16\u001b[0m \u001b[0;34m\u001b[0m\u001b[0m\n\u001b[1;32m     17\u001b[0m \u001b[0mplt\u001b[0m\u001b[0;34m.\u001b[0m\u001b[0mshow\u001b[0m\u001b[0;34m(\u001b[0m\u001b[0;34m)\u001b[0m\u001b[0;34m\u001b[0m\u001b[0;34m\u001b[0m\u001b[0m\n",
            "\u001b[0;31mNameError\u001b[0m: name 'f' is not defined"
          ]
        },
        {
          "output_type": "display_data",
          "data": {
            "image/png": "[encoded data removed]",
            "text/plain": [
              "<Figure size 432x288 with 1 Axes>"
            ]
          },
          "metadata": {
            "needs_background": "light"
          }
        }
      ]
    },
    {
      "cell_type": "code",
      "metadata": {
        "colab": {
          "base_uri": "https://localhost:8080/",
          "height": 497
        },
        "id": "KdDUzZDlaSlY",
        "outputId": "7686ab3f-74c6-4221-cde6-7be6158d70aa"
      },
      "source": [
        "#luas southern\n",
        "\n",
        "plt.xlabel('x')\n",
        "plt.ylabel('f(x)')\n",
        "plt.grid()\n",
        "\n",
        "# Plot x against f(x)\n",
        "plt.plot(x,y<46, color='purple')\n",
        "\n",
        "# show area for integral\n",
        "section = np.arange(-2.078329999999994, 2.1112850000000094, 1)\n",
        "plt.fill_between(section,f(section), color='orange')\n",
        "\n",
        "plt.show()"
      ],
      "execution_count": 69,
      "outputs": [
        {
          "output_type": "error",
          "ename": "NameError",
          "evalue": "ignored",
          "traceback": [
            "\u001b[0;31m---------------------------------------------------------------------------\u001b[0m",
            "\u001b[0;31mNameError\u001b[0m                                 Traceback (most recent call last)",
            "\u001b[0;32m<ipython-input-69-1c8d04df1c9f>\u001b[0m in \u001b[0;36m<module>\u001b[0;34m()\u001b[0m\n\u001b[1;32m     15\u001b[0m \u001b[0;31m# show area for integral\u001b[0m\u001b[0;34m\u001b[0m\u001b[0;34m\u001b[0m\u001b[0;34m\u001b[0m\u001b[0m\n\u001b[1;32m     16\u001b[0m \u001b[0msection\u001b[0m \u001b[0;34m=\u001b[0m \u001b[0mnp\u001b[0m\u001b[0;34m.\u001b[0m\u001b[0marange\u001b[0m\u001b[0;34m(\u001b[0m\u001b[0;34m-\u001b[0m\u001b[0;36m2.078329999999994\u001b[0m\u001b[0;34m,\u001b[0m \u001b[0;36m2.1112850000000094\u001b[0m\u001b[0;34m,\u001b[0m \u001b[0;36m1\u001b[0m\u001b[0;34m)\u001b[0m\u001b[0;34m\u001b[0m\u001b[0;34m\u001b[0m\u001b[0m\n\u001b[0;32m---> 17\u001b[0;31m \u001b[0mplt\u001b[0m\u001b[0;34m.\u001b[0m\u001b[0mfill_between\u001b[0m\u001b[0;34m(\u001b[0m\u001b[0msection\u001b[0m\u001b[0;34m,\u001b[0m\u001b[0mf\u001b[0m\u001b[0;34m(\u001b[0m\u001b[0msection\u001b[0m\u001b[0;34m)\u001b[0m\u001b[0;34m,\u001b[0m \u001b[0mcolor\u001b[0m\u001b[0;34m=\u001b[0m\u001b[0;34m'orange'\u001b[0m\u001b[0;34m)\u001b[0m\u001b[0;34m\u001b[0m\u001b[0;34m\u001b[0m\u001b[0m\n\u001b[0m\u001b[1;32m     18\u001b[0m \u001b[0;34m\u001b[0m\u001b[0m\n\u001b[1;32m     19\u001b[0m \u001b[0mplt\u001b[0m\u001b[0;34m.\u001b[0m\u001b[0mshow\u001b[0m\u001b[0;34m(\u001b[0m\u001b[0;34m)\u001b[0m\u001b[0;34m\u001b[0m\u001b[0;34m\u001b[0m\u001b[0m\n",
            "\u001b[0;31mNameError\u001b[0m: name 'f' is not defined"
          ]
        },
        {
          "output_type": "display_data",
          "data": {
            "image/png": "[encoded data removed]",
            "text/plain": [
              "<Figure size 432x288 with 1 Axes>"
            ]
          },
          "metadata": {
            "needs_background": "light"
          }
        }
      ]
    },
    {
      "cell_type": "code",
      "metadata": {
        "colab": {
          "base_uri": "https://localhost:8080/",
          "height": 131
        },
        "id": "PL9n7LZ9Pj6x",
        "outputId": "08684a6a-51c8-48ea-e2da-fd0d70484827"
      },
      "source": [
        "for i in range(len(data)):\n",
        "  sm = 0\n",
        "  for i in range(1, len(data['latitude'])):\n",
        "    h = data['latitude'][i] - data['latitude'][i-1]\n",
        "    sm += h * (data['longitude'][i-1] + data['longitude'][i]) / 2\n",
        "  \n",
        "  return sm"
      ],
      "execution_count": 21,
      "outputs": [
        {
          "output_type": "error",
          "ename": "SyntaxError",
          "evalue": "ignored",
          "traceback": [
            "\u001b[0;36m  File \u001b[0;32m\"<ipython-input-21-14b39a3a962c>\"\u001b[0;36m, line \u001b[0;32m7\u001b[0m\n\u001b[0;31m    return sm\u001b[0m\n\u001b[0m    ^\u001b[0m\n\u001b[0;31mSyntaxError\u001b[0m\u001b[0;31m:\u001b[0m 'return' outside function\n"
          ]
        }
      ]
    }
  ]
}